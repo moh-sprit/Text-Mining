{
  "nbformat": 4,
  "nbformat_minor": 0,
  "metadata": {
    "colab": {
      "name": "Text-Mining.ipynb",
      "provenance": [],
      "collapsed_sections": []
    },
    "kernelspec": {
      "name": "python3",
      "display_name": "Python 3"
    },
    "language_info": {
      "name": "python"
    }
  },
  "cells": [
    {
      "cell_type": "code",
      "execution_count": 82,
      "metadata": {
        "id": "4vIr5-ln1H-f"
      },
      "outputs": [],
      "source": [
        "import pandas as pd\n",
        "import numpy as np \n",
        "import re\n",
        "import random\n",
        "import math\n",
        "import time\n",
        "from torch import nn\n",
        "import torch.nn.functional as F\n",
        "from sklearn.linear_model import LinearRegression\n",
        "import torch\n",
        "from keras.models import Sequential\n",
        "from keras import  layers\n",
        "from keras import losses\n",
        "from keras import  metrics\n",
        "import keras\n",
        "from keras.layers import Dense, Dropout, Embedding\n",
        "from sklearn.model_selection import train_test_split\n",
        "from mlxtend.plotting import plot_confusion_matrix\n",
        "from sklearn.metrics import confusion_matrix, classification_report\n",
        "from keras_preprocessing.text import Tokenizer\n",
        "from tensorflow.keras.utils import to_categorical\n",
        "import matplotlib.pyplot as plt\n",
        "from keras_preprocessing import sequence\n",
        "import seaborn as sns\n",
        "import matplotlib.pyplot as plt\n",
        "# Plotly Libraris\n",
        "import plotly.express as px\n",
        "import plotly.graph_objects as go\n",
        "from plotly.subplots import make_subplots\n",
        "\n"
      ]
    },
    {
      "cell_type": "code",
      "source": [
        "from google.colab import drive\n",
        "drive.mount('/content/gdrive')"
      ],
      "metadata": {
        "colab": {
          "base_uri": "https://localhost:8080/"
        },
        "id": "aTjEKEH7ra5L",
        "outputId": "b7b7e8cf-0a89-4054-bc5b-371a306fd247"
      },
      "execution_count": 3,
      "outputs": [
        {
          "output_type": "stream",
          "name": "stdout",
          "text": [
            "Mounted at /content/gdrive\n"
          ]
        }
      ]
    },
    {
      "cell_type": "code",
      "source": [
        "x = pd.read_csv(r'/content/gdrive/MyDrive/xx.csv')"
      ],
      "metadata": {
        "id": "ZBgPJPJZ2NRm"
      },
      "execution_count": 4,
      "outputs": []
    },
    {
      "cell_type": "code",
      "source": [
        "x.info()"
      ],
      "metadata": {
        "colab": {
          "base_uri": "https://localhost:8080/"
        },
        "id": "doZjM5SA9lua",
        "outputId": "d722f386-0d37-4f12-d28f-e24da9cd94b3"
      },
      "execution_count": 5,
      "outputs": [
        {
          "output_type": "stream",
          "name": "stdout",
          "text": [
            "<class 'pandas.core.frame.DataFrame'>\n",
            "RangeIndex: 249981 entries, 0 to 249980\n",
            "Data columns (total 2 columns):\n",
            " #   Column      Non-Null Count   Dtype \n",
            "---  ------      --------------   ----- \n",
            " 0   Unnamed: 0  249981 non-null  int64 \n",
            " 1   col2        249780 non-null  object\n",
            "dtypes: int64(1), object(1)\n",
            "memory usage: 3.8+ MB\n"
          ]
        }
      ]
    },
    {
      "cell_type": "code",
      "source": [
        "x = x.drop('Unnamed: 0' , axis = 1)\n",
        "x.info()"
      ],
      "metadata": {
        "colab": {
          "base_uri": "https://localhost:8080/"
        },
        "id": "q-uueO1v9FeY",
        "outputId": "0c670be0-a942-46d9-ddbc-2a444e63f7df"
      },
      "execution_count": 6,
      "outputs": [
        {
          "output_type": "stream",
          "name": "stdout",
          "text": [
            "<class 'pandas.core.frame.DataFrame'>\n",
            "RangeIndex: 249981 entries, 0 to 249980\n",
            "Data columns (total 1 columns):\n",
            " #   Column  Non-Null Count   Dtype \n",
            "---  ------  --------------   ----- \n",
            " 0   col2    249780 non-null  object\n",
            "dtypes: object(1)\n",
            "memory usage: 1.9+ MB\n"
          ]
        }
      ]
    },
    {
      "cell_type": "code",
      "source": [
        "x"
      ],
      "metadata": {
        "colab": {
          "base_uri": "https://localhost:8080/",
          "height": 424
        },
        "id": "bgfC194F9Gz8",
        "outputId": "c126734b-45a2-44a3-de55-b05121a6e9e5"
      },
      "execution_count": null,
      "outputs": [
        {
          "output_type": "execute_result",
          "data": {
            "text/plain": [
              "                                                     col2\n",
              "0                                   چه جالب حالا گوه نخور\n",
              "1       عطر یاسآواز نسیمرقص شاپرک هاانوار عاشقانه ی آف...\n",
              "2       نقدی مردم حق انتقاد دارن و به هیچ وجه تهدید نم...\n",
              "3                             کسی هست واسه سکس چت پول بده\n",
              "4       دوباره فضول رهبر موقت  که به حجاب مردم گیر مید...\n",
              "...                                                   ...\n",
              "249976  شست باران همه کوچه خیابانها راپس چرا مانده غمت...\n",
              "249977  میگن حالا که روسیه اجازه ی استفاده از سامانه ی...\n",
              "249978  مرگ انسان زمانیست که  نه شب بهانه ای برای خواب...\n",
              "249979  اصراری نمیکنم  اگر دین الهی نباشه خودش به مرور...\n",
              "249980                  سایه ات از سرمان کم نشود حضرت یار\n",
              "\n",
              "[249981 rows x 1 columns]"
            ],
            "text/html": [
              "\n",
              "  <div id=\"df-61750755-8e74-47f3-82a4-162e36754287\">\n",
              "    <div class=\"colab-df-container\">\n",
              "      <div>\n",
              "<style scoped>\n",
              "    .dataframe tbody tr th:only-of-type {\n",
              "        vertical-align: middle;\n",
              "    }\n",
              "\n",
              "    .dataframe tbody tr th {\n",
              "        vertical-align: top;\n",
              "    }\n",
              "\n",
              "    .dataframe thead th {\n",
              "        text-align: right;\n",
              "    }\n",
              "</style>\n",
              "<table border=\"1\" class=\"dataframe\">\n",
              "  <thead>\n",
              "    <tr style=\"text-align: right;\">\n",
              "      <th></th>\n",
              "      <th>col2</th>\n",
              "    </tr>\n",
              "  </thead>\n",
              "  <tbody>\n",
              "    <tr>\n",
              "      <th>0</th>\n",
              "      <td>چه جالب حالا گوه نخور</td>\n",
              "    </tr>\n",
              "    <tr>\n",
              "      <th>1</th>\n",
              "      <td>عطر یاسآواز نسیمرقص شاپرک هاانوار عاشقانه ی آف...</td>\n",
              "    </tr>\n",
              "    <tr>\n",
              "      <th>2</th>\n",
              "      <td>نقدی مردم حق انتقاد دارن و به هیچ وجه تهدید نم...</td>\n",
              "    </tr>\n",
              "    <tr>\n",
              "      <th>3</th>\n",
              "      <td>کسی هست واسه سکس چت پول بده</td>\n",
              "    </tr>\n",
              "    <tr>\n",
              "      <th>4</th>\n",
              "      <td>دوباره فضول رهبر موقت  که به حجاب مردم گیر مید...</td>\n",
              "    </tr>\n",
              "    <tr>\n",
              "      <th>...</th>\n",
              "      <td>...</td>\n",
              "    </tr>\n",
              "    <tr>\n",
              "      <th>249976</th>\n",
              "      <td>شست باران همه کوچه خیابانها راپس چرا مانده غمت...</td>\n",
              "    </tr>\n",
              "    <tr>\n",
              "      <th>249977</th>\n",
              "      <td>میگن حالا که روسیه اجازه ی استفاده از سامانه ی...</td>\n",
              "    </tr>\n",
              "    <tr>\n",
              "      <th>249978</th>\n",
              "      <td>مرگ انسان زمانیست که  نه شب بهانه ای برای خواب...</td>\n",
              "    </tr>\n",
              "    <tr>\n",
              "      <th>249979</th>\n",
              "      <td>اصراری نمیکنم  اگر دین الهی نباشه خودش به مرور...</td>\n",
              "    </tr>\n",
              "    <tr>\n",
              "      <th>249980</th>\n",
              "      <td>سایه ات از سرمان کم نشود حضرت یار</td>\n",
              "    </tr>\n",
              "  </tbody>\n",
              "</table>\n",
              "<p>249981 rows × 1 columns</p>\n",
              "</div>\n",
              "      <button class=\"colab-df-convert\" onclick=\"convertToInteractive('df-61750755-8e74-47f3-82a4-162e36754287')\"\n",
              "              title=\"Convert this dataframe to an interactive table.\"\n",
              "              style=\"display:none;\">\n",
              "        \n",
              "  <svg xmlns=\"http://www.w3.org/2000/svg\" height=\"24px\"viewBox=\"0 0 24 24\"\n",
              "       width=\"24px\">\n",
              "    <path d=\"M0 0h24v24H0V0z\" fill=\"none\"/>\n",
              "    <path d=\"M18.56 5.44l.94 2.06.94-2.06 2.06-.94-2.06-.94-.94-2.06-.94 2.06-2.06.94zm-11 1L8.5 8.5l.94-2.06 2.06-.94-2.06-.94L8.5 2.5l-.94 2.06-2.06.94zm10 10l.94 2.06.94-2.06 2.06-.94-2.06-.94-.94-2.06-.94 2.06-2.06.94z\"/><path d=\"M17.41 7.96l-1.37-1.37c-.4-.4-.92-.59-1.43-.59-.52 0-1.04.2-1.43.59L10.3 9.45l-7.72 7.72c-.78.78-.78 2.05 0 2.83L4 21.41c.39.39.9.59 1.41.59.51 0 1.02-.2 1.41-.59l7.78-7.78 2.81-2.81c.8-.78.8-2.07 0-2.86zM5.41 20L4 18.59l7.72-7.72 1.47 1.35L5.41 20z\"/>\n",
              "  </svg>\n",
              "      </button>\n",
              "      \n",
              "  <style>\n",
              "    .colab-df-container {\n",
              "      display:flex;\n",
              "      flex-wrap:wrap;\n",
              "      gap: 12px;\n",
              "    }\n",
              "\n",
              "    .colab-df-convert {\n",
              "      background-color: #E8F0FE;\n",
              "      border: none;\n",
              "      border-radius: 50%;\n",
              "      cursor: pointer;\n",
              "      display: none;\n",
              "      fill: #1967D2;\n",
              "      height: 32px;\n",
              "      padding: 0 0 0 0;\n",
              "      width: 32px;\n",
              "    }\n",
              "\n",
              "    .colab-df-convert:hover {\n",
              "      background-color: #E2EBFA;\n",
              "      box-shadow: 0px 1px 2px rgba(60, 64, 67, 0.3), 0px 1px 3px 1px rgba(60, 64, 67, 0.15);\n",
              "      fill: #174EA6;\n",
              "    }\n",
              "\n",
              "    [theme=dark] .colab-df-convert {\n",
              "      background-color: #3B4455;\n",
              "      fill: #D2E3FC;\n",
              "    }\n",
              "\n",
              "    [theme=dark] .colab-df-convert:hover {\n",
              "      background-color: #434B5C;\n",
              "      box-shadow: 0px 1px 3px 1px rgba(0, 0, 0, 0.15);\n",
              "      filter: drop-shadow(0px 1px 2px rgba(0, 0, 0, 0.3));\n",
              "      fill: #FFFFFF;\n",
              "    }\n",
              "  </style>\n",
              "\n",
              "      <script>\n",
              "        const buttonEl =\n",
              "          document.querySelector('#df-61750755-8e74-47f3-82a4-162e36754287 button.colab-df-convert');\n",
              "        buttonEl.style.display =\n",
              "          google.colab.kernel.accessAllowed ? 'block' : 'none';\n",
              "\n",
              "        async function convertToInteractive(key) {\n",
              "          const element = document.querySelector('#df-61750755-8e74-47f3-82a4-162e36754287');\n",
              "          const dataTable =\n",
              "            await google.colab.kernel.invokeFunction('convertToInteractive',\n",
              "                                                     [key], {});\n",
              "          if (!dataTable) return;\n",
              "\n",
              "          const docLinkHtml = 'Like what you see? Visit the ' +\n",
              "            '<a target=\"_blank\" href=https://colab.research.google.com/notebooks/data_table.ipynb>data table notebook</a>'\n",
              "            + ' to learn more about interactive tables.';\n",
              "          element.innerHTML = '';\n",
              "          dataTable['output_type'] = 'display_data';\n",
              "          await google.colab.output.renderOutput(dataTable, element);\n",
              "          const docLink = document.createElement('div');\n",
              "          docLink.innerHTML = docLinkHtml;\n",
              "          element.appendChild(docLink);\n",
              "        }\n",
              "      </script>\n",
              "    </div>\n",
              "  </div>\n",
              "  "
            ]
          },
          "metadata": {},
          "execution_count": 6
        }
      ]
    },
    {
      "cell_type": "code",
      "source": [
        "x_t = x.loc[:]['col2']\n",
        "x_t.shape"
      ],
      "metadata": {
        "colab": {
          "base_uri": "https://localhost:8080/"
        },
        "id": "N9bZLums955Z",
        "outputId": "53720357-7fcb-40aa-c916-b26fd4ba0908"
      },
      "execution_count": 7,
      "outputs": [
        {
          "output_type": "execute_result",
          "data": {
            "text/plain": [
              "(249981,)"
            ]
          },
          "metadata": {},
          "execution_count": 7
        }
      ]
    },
    {
      "cell_type": "code",
      "source": [
        "for i in range (len(x_t)):\n",
        "  t = x_t[i]\n",
        "  t = re.sub(r'[^a-zA-Z0-9آ-ی۰-۹ ]', ' ', str(t))\n",
        "  t = t.strip()\n",
        "  x_t[i] = t  \n",
        "x_t"
      ],
      "metadata": {
        "colab": {
          "base_uri": "https://localhost:8080/"
        },
        "id": "K5xdQ5tWryfx",
        "outputId": "1d5ad357-e674-4392-9a6a-599e76a860a6"
      },
      "execution_count": 8,
      "outputs": [
        {
          "output_type": "execute_result",
          "data": {
            "text/plain": [
              "0                                     چه جالب حالا گوه نخور\n",
              "1         عطر یاسآواز نسیمرقص شاپرک هاانوار عاشقانه ی آف...\n",
              "2         نقدی مردم حق انتقاد دارن و به هیچ وجه تهدید نم...\n",
              "3                               کسی هست واسه سکس چت پول بده\n",
              "4         دوباره فضول رهبر موقت  که به حجاب مردم گیر مید...\n",
              "                                ...                        \n",
              "249976    شست باران همه کوچه خیابانها راپس چرا مانده غمت...\n",
              "249977    میگن حالا که روسیه اجازه ی استفاده از سامانه ی...\n",
              "249978    مرگ انسان زمانیست که  نه شب بهانه ای برای خواب...\n",
              "249979    اصراری نمیکنم  اگر دین الهی نباشه خودش به مرور...\n",
              "249980                    سایه ات از سرمان کم نشود حضرت یار\n",
              "Name: col2, Length: 249981, dtype: object"
            ]
          },
          "metadata": {},
          "execution_count": 8
        }
      ]
    },
    {
      "cell_type": "code",
      "source": [
        "type(x_t)"
      ],
      "metadata": {
        "colab": {
          "base_uri": "https://localhost:8080/"
        },
        "id": "EYRfeaI0vXNH",
        "outputId": "357bf66a-c271-4ea8-bddf-0cdd886d6cb5"
      },
      "execution_count": null,
      "outputs": [
        {
          "output_type": "execute_result",
          "data": {
            "text/plain": [
              "pandas.core.series.Series"
            ]
          },
          "metadata": {},
          "execution_count": 9
        }
      ]
    },
    {
      "cell_type": "code",
      "source": [
        "x_tt = x_t[0:10000]\n",
        "#x_tt = pd.concat(x_tt , x_t[2000])\n",
        "x_tt"
      ],
      "metadata": {
        "colab": {
          "base_uri": "https://localhost:8080/"
        },
        "id": "kepvpy9yt46U",
        "outputId": "3dc72a95-5220-4a35-996a-44350c72037b"
      },
      "execution_count": 10,
      "outputs": [
        {
          "output_type": "execute_result",
          "data": {
            "text/plain": [
              "0                                   چه جالب حالا گوه نخور\n",
              "1       عطر یاسآواز نسیمرقص شاپرک هاانوار عاشقانه ی آف...\n",
              "2       نقدی مردم حق انتقاد دارن و به هیچ وجه تهدید نم...\n",
              "3                             کسی هست واسه سکس چت پول بده\n",
              "4       دوباره فضول رهبر موقت  که به حجاب مردم گیر مید...\n",
              "                              ...                        \n",
              "9995    قدرت ملت ما امروز به جایی رسیده که با یک شعار ...\n",
              "9996    آهای پادشاهی خواهانآهای ایرانیاندست به کار شوی...\n",
              "9997     نسیم بابا قرار شد اسرارمون بین خودمووون بمونه که\n",
              "9998                                             توش باشه\n",
              "9999    چهل سال    چهل سال فریبکاری   چهل سال سرکوب بر...\n",
              "Name: col2, Length: 10000, dtype: object"
            ]
          },
          "metadata": {},
          "execution_count": 10
        }
      ]
    },
    {
      "cell_type": "code",
      "source": [
        "len(x_tt)"
      ],
      "metadata": {
        "colab": {
          "base_uri": "https://localhost:8080/"
        },
        "id": "MWw1YVkf80wo",
        "outputId": "e0eede19-2143-42fe-e56e-2200047e822a"
      },
      "execution_count": 11,
      "outputs": [
        {
          "output_type": "execute_result",
          "data": {
            "text/plain": [
              "10000"
            ]
          },
          "metadata": {},
          "execution_count": 11
        }
      ]
    },
    {
      "cell_type": "code",
      "source": [
        "x_tt"
      ],
      "metadata": {
        "colab": {
          "base_uri": "https://localhost:8080/"
        },
        "id": "dyTj9SUd73vO",
        "outputId": "68f42594-92f8-426f-ee4c-43343c8a6d6b"
      },
      "execution_count": 12,
      "outputs": [
        {
          "output_type": "execute_result",
          "data": {
            "text/plain": [
              "0                                   چه جالب حالا گوه نخور\n",
              "1       عطر یاسآواز نسیمرقص شاپرک هاانوار عاشقانه ی آف...\n",
              "2       نقدی مردم حق انتقاد دارن و به هیچ وجه تهدید نم...\n",
              "3                             کسی هست واسه سکس چت پول بده\n",
              "4       دوباره فضول رهبر موقت  که به حجاب مردم گیر مید...\n",
              "                              ...                        \n",
              "9995    قدرت ملت ما امروز به جایی رسیده که با یک شعار ...\n",
              "9996    آهای پادشاهی خواهانآهای ایرانیاندست به کار شوی...\n",
              "9997     نسیم بابا قرار شد اسرارمون بین خودمووون بمونه که\n",
              "9998                                             توش باشه\n",
              "9999    چهل سال    چهل سال فریبکاری   چهل سال سرکوب بر...\n",
              "Name: col2, Length: 10000, dtype: object"
            ]
          },
          "metadata": {},
          "execution_count": 12
        }
      ]
    },
    {
      "cell_type": "code",
      "source": [
        "word_s = []\n",
        "for i in range (0,len(x_tt)):\n",
        "  word_s.append(x_tt[i].split())"
      ],
      "metadata": {
        "id": "RpepSNxH9EJ5"
      },
      "execution_count": 13,
      "outputs": []
    },
    {
      "cell_type": "code",
      "source": [
        "len(word_s)"
      ],
      "metadata": {
        "colab": {
          "base_uri": "https://localhost:8080/"
        },
        "id": "YLi7xsSmcMsJ",
        "outputId": "b01b26da-1a24-49d7-9dfe-768c84ede5d4"
      },
      "execution_count": 14,
      "outputs": [
        {
          "output_type": "execute_result",
          "data": {
            "text/plain": [
              "10000"
            ]
          },
          "metadata": {},
          "execution_count": 14
        }
      ]
    },
    {
      "cell_type": "code",
      "source": [
        "print(len(word_s))\n",
        "word_s[10]"
      ],
      "metadata": {
        "colab": {
          "base_uri": "https://localhost:8080/"
        },
        "id": "QC1NgOrW-odv",
        "outputId": "6998df52-aa4a-40e9-f1b6-c4d7739d47ee"
      },
      "execution_count": 15,
      "outputs": [
        {
          "output_type": "stream",
          "name": "stdout",
          "text": [
            "10000\n"
          ]
        },
        {
          "output_type": "execute_result",
          "data": {
            "text/plain": [
              "['بطور', 'متوسط', 'تازه', 'حالت', 'بدشو', 'درنظر', 'نگرفته']"
            ]
          },
          "metadata": {},
          "execution_count": 15
        }
      ]
    },
    {
      "cell_type": "code",
      "source": [
        "d = set()\n",
        "for i in range(0,len(word_s)):\n",
        "  for j in range(0,len(word_s[i])):\n",
        "    d.add(word_s[i][j])"
      ],
      "metadata": {
        "id": "YA10gLe5Ar9V"
      },
      "execution_count": 16,
      "outputs": []
    },
    {
      "cell_type": "code",
      "source": [
        "#print(tuple(d))\n",
        "len(d)"
      ],
      "metadata": {
        "colab": {
          "base_uri": "https://localhost:8080/"
        },
        "id": "fgLh2_o-BtI1",
        "outputId": "50dad774-5d52-4e35-ab71-7645594521f9"
      },
      "execution_count": 17,
      "outputs": [
        {
          "output_type": "execute_result",
          "data": {
            "text/plain": [
              "26676"
            ]
          },
          "metadata": {},
          "execution_count": 17
        }
      ]
    },
    {
      "cell_type": "code",
      "source": [
        "char_to_int = dict((c,i) for i, c in enumerate(d))"
      ],
      "metadata": {
        "id": "kA_1l_XSB91C"
      },
      "execution_count": 18,
      "outputs": []
    },
    {
      "cell_type": "code",
      "source": [
        "from keras_preprocessing.text import Tokenizer\n",
        "tokenizer = Tokenizer(1000)\n",
        "tokenizer.fit_on_texts(word_s)"
      ],
      "metadata": {
        "id": "qL19k8qd_Z-w"
      },
      "execution_count": 19,
      "outputs": []
    },
    {
      "cell_type": "code",
      "source": [
        "def partitionlines(lines,maxlen):\n",
        "  data_x=[]\n",
        "  data_y=[]\n",
        "  for line in lines:\n",
        "    words = line\n",
        "    for i in range(0,maxlen):\n",
        "      if i >=len(words)-1:\n",
        "        break\n",
        "      data_x.append(words[0:i+1])\n",
        "      data_y.append(words[i+1])\n",
        "    for i in range(maxlen,len(words)):\n",
        "      if i >=len(words)-1:\n",
        "        break\n",
        "      data_x.append(words[i-maxlen+1:i+1])\n",
        "      data_y.append(words[i+1])\n",
        "  return data_x,data_y"
      ],
      "metadata": {
        "id": "UcQArdpV_aLX"
      },
      "execution_count": 20,
      "outputs": []
    },
    {
      "cell_type": "code",
      "source": [
        "maxlen = 10\n",
        "lines = tokenizer.texts_to_sequences(word_s)\n",
        "data_x,data_y = partitionlines(lines,maxlen)"
      ],
      "metadata": {
        "id": "BBVANrV2_am-"
      },
      "execution_count": 21,
      "outputs": []
    },
    {
      "cell_type": "code",
      "source": [
        "print('x1:',data_x[0])\n",
        "print('y1:',data_y[0])\n",
        "print('x2:',data_x[1])\n",
        "print('y2:',data_y[1])\n",
        "print('x3:',data_x[2])\n",
        "print('y3:',data_y[2])"
      ],
      "metadata": {
        "colab": {
          "base_uri": "https://localhost:8080/"
        },
        "id": "-b2D8acn_a6W",
        "outputId": "7cb04f6b-597d-4815-a9fb-5e14be27e645"
      },
      "execution_count": 22,
      "outputs": [
        {
          "output_type": "stream",
          "name": "stdout",
          "text": [
            "x1: [36]\n",
            "y1: 695\n",
            "x2: [36, 695]\n",
            "y2: 98\n",
            "x3: [34]\n",
            "y3: 1\n"
          ]
        }
      ]
    },
    {
      "cell_type": "code",
      "source": [
        "data_x[101]"
      ],
      "metadata": {
        "colab": {
          "base_uri": "https://localhost:8080/"
        },
        "id": "n6EyhoE0_bFm",
        "outputId": "1094ac5f-5889-4b26-dbcd-680d6ca31c23"
      },
      "execution_count": 23,
      "outputs": [
        {
          "output_type": "execute_result",
          "data": {
            "text/plain": [
              "[12, 62]"
            ]
          },
          "metadata": {},
          "execution_count": 23
        }
      ]
    },
    {
      "cell_type": "code",
      "source": [
        "x_train = sequence.pad_sequences(data_x,maxlen=maxlen)\n",
        "y_train = to_categorical(data_y)\n",
        "y_train.shape"
      ],
      "metadata": {
        "colab": {
          "base_uri": "https://localhost:8080/"
        },
        "id": "6zDOkxl0APWN",
        "outputId": "a867895f-c21d-4226-a4a8-f851c9211a9b"
      },
      "execution_count": 24,
      "outputs": [
        {
          "output_type": "execute_result",
          "data": {
            "text/plain": [
              "(93692, 1000)"
            ]
          },
          "metadata": {},
          "execution_count": 24
        }
      ]
    },
    {
      "cell_type": "code",
      "source": [
        "np.max(y_train,axis=1)\n",
        "indices = np.arange(0,len(x_train))\n",
        "np.random.shuffle(indices)\n",
        "x_train_shuffled = x_train[indices]\n",
        "y_train_shuffled = y_train[indices]"
      ],
      "metadata": {
        "id": "eggnhJxWAPf0"
      },
      "execution_count": 25,
      "outputs": []
    },
    {
      "cell_type": "code",
      "source": [
        "x_test = x_train_shuffled[-18000:]\n",
        "x_train_partial = x_train_shuffled[:-18000]\n",
        "y_test = y_train_shuffled[-18000:]\n",
        "y_train_partial = y_train_shuffled[:-18000]"
      ],
      "metadata": {
        "id": "3tSBUhQnyokN"
      },
      "execution_count": 26,
      "outputs": []
    },
    {
      "cell_type": "code",
      "source": [
        ""
      ],
      "metadata": {
        "id": "1IF9qihuypFz"
      },
      "execution_count": null,
      "outputs": []
    },
    {
      "cell_type": "code",
      "source": [
        "def Smodel():\n",
        "  models = Sequential()\n",
        "  models.add(layers.Embedding(1000, 128))\n",
        "  models.add(Dropout(0.2))\n",
        "  models.add(layers.LSTM(504))\n",
        "  models.add(layers.Dense(y_train.shape[1], activation = 'softmax'))\n",
        "  models.compile(optimizer='adam',loss=losses.categorical_crossentropy, metrics=['accuracy'])\n",
        "\n",
        "  return models"
      ],
      "metadata": {
        "id": "1zfQnuw3ypRr"
      },
      "execution_count": 28,
      "outputs": []
    },
    {
      "cell_type": "code",
      "source": [
        "  modelss = Smodel()\n",
        "\n",
        "  modelss.summary()\n"
      ],
      "metadata": {
        "colab": {
          "base_uri": "https://localhost:8080/"
        },
        "id": "NqVCKSVEV6ZD",
        "outputId": "b0bfc429-8c19-4ebe-df4c-295c4a2110b3"
      },
      "execution_count": 29,
      "outputs": [
        {
          "output_type": "stream",
          "name": "stdout",
          "text": [
            "Model: \"sequential\"\n",
            "_________________________________________________________________\n",
            " Layer (type)                Output Shape              Param #   \n",
            "=================================================================\n",
            " embedding (Embedding)       (None, None, 128)         128000    \n",
            "                                                                 \n",
            " dropout (Dropout)           (None, None, 128)         0         \n",
            "                                                                 \n",
            " lstm (LSTM)                 (None, 504)               1276128   \n",
            "                                                                 \n",
            " dense (Dense)               (None, 1000)              505000    \n",
            "                                                                 \n",
            "=================================================================\n",
            "Total params: 1,909,128\n",
            "Trainable params: 1,909,128\n",
            "Non-trainable params: 0\n",
            "_________________________________________________________________\n"
          ]
        }
      ]
    },
    {
      "cell_type": "code",
      "source": [
        "history = modelss.fit(x_train_partial,\n",
        "                    y_train_partial,\n",
        "                    epochs=30,\n",
        "                    validation_data = (x_test,y_test),\n",
        "                    batch_size=128)"
      ],
      "metadata": {
        "colab": {
          "base_uri": "https://localhost:8080/"
        },
        "id": "f4AdkvrUy0Yx",
        "outputId": "1226db6c-585e-44b6-d7b9-9ff278426ed4"
      },
      "execution_count": 30,
      "outputs": [
        {
          "output_type": "stream",
          "name": "stdout",
          "text": [
            "Epoch 1/30\n",
            "592/592 [==============================] - 174s 289ms/step - loss: 5.9388 - accuracy: 0.0556 - val_loss: 5.8133 - val_accuracy: 0.0667\n",
            "Epoch 2/30\n",
            "592/592 [==============================] - 169s 286ms/step - loss: 5.6960 - accuracy: 0.0770 - val_loss: 5.6182 - val_accuracy: 0.0833\n",
            "Epoch 3/30\n",
            "592/592 [==============================] - 171s 290ms/step - loss: 5.5055 - accuracy: 0.0917 - val_loss: 5.5113 - val_accuracy: 0.0911\n",
            "Epoch 4/30\n",
            "592/592 [==============================] - 169s 286ms/step - loss: 5.3348 - accuracy: 0.1031 - val_loss: 5.4419 - val_accuracy: 0.1002\n",
            "Epoch 5/30\n",
            "592/592 [==============================] - 167s 281ms/step - loss: 5.1583 - accuracy: 0.1149 - val_loss: 5.4165 - val_accuracy: 0.1056\n",
            "Epoch 6/30\n",
            "592/592 [==============================] - 168s 284ms/step - loss: 4.9505 - accuracy: 0.1280 - val_loss: 5.4165 - val_accuracy: 0.1108\n",
            "Epoch 7/30\n",
            "592/592 [==============================] - 169s 285ms/step - loss: 4.6935 - accuracy: 0.1501 - val_loss: 5.4430 - val_accuracy: 0.1119\n",
            "Epoch 8/30\n",
            "592/592 [==============================] - 168s 285ms/step - loss: 4.3973 - accuracy: 0.1776 - val_loss: 5.4886 - val_accuracy: 0.1184\n",
            "Epoch 9/30\n",
            "592/592 [==============================] - 166s 281ms/step - loss: 4.0784 - accuracy: 0.2130 - val_loss: 5.5490 - val_accuracy: 0.1204\n",
            "Epoch 10/30\n",
            "592/592 [==============================] - 167s 283ms/step - loss: 3.7550 - accuracy: 0.2560 - val_loss: 5.6375 - val_accuracy: 0.1211\n",
            "Epoch 11/30\n",
            "592/592 [==============================] - 169s 286ms/step - loss: 3.4355 - accuracy: 0.3040 - val_loss: 5.7420 - val_accuracy: 0.1259\n",
            "Epoch 12/30\n",
            "592/592 [==============================] - 173s 292ms/step - loss: 3.1275 - accuracy: 0.3584 - val_loss: 5.8524 - val_accuracy: 0.1248\n",
            "Epoch 13/30\n",
            "592/592 [==============================] - 168s 284ms/step - loss: 2.8394 - accuracy: 0.4150 - val_loss: 5.9702 - val_accuracy: 0.1245\n",
            "Epoch 14/30\n",
            "592/592 [==============================] - 169s 286ms/step - loss: 2.5780 - accuracy: 0.4694 - val_loss: 6.0766 - val_accuracy: 0.1277\n",
            "Epoch 15/30\n",
            "592/592 [==============================] - 169s 286ms/step - loss: 2.3361 - accuracy: 0.5229 - val_loss: 6.2288 - val_accuracy: 0.1283\n",
            "Epoch 16/30\n",
            "592/592 [==============================] - 168s 283ms/step - loss: 2.1269 - accuracy: 0.5656 - val_loss: 6.3463 - val_accuracy: 0.1290\n",
            "Epoch 17/30\n",
            "592/592 [==============================] - 167s 283ms/step - loss: 1.9376 - accuracy: 0.6087 - val_loss: 6.4560 - val_accuracy: 0.1273\n",
            "Epoch 18/30\n",
            "592/592 [==============================] - 173s 291ms/step - loss: 1.7752 - accuracy: 0.6446 - val_loss: 6.6009 - val_accuracy: 0.1297\n",
            "Epoch 19/30\n",
            "592/592 [==============================] - 171s 289ms/step - loss: 1.6321 - accuracy: 0.6759 - val_loss: 6.7131 - val_accuracy: 0.1290\n",
            "Epoch 20/30\n",
            "592/592 [==============================] - 169s 286ms/step - loss: 1.5014 - accuracy: 0.7046 - val_loss: 6.8547 - val_accuracy: 0.1292\n",
            "Epoch 21/30\n",
            "592/592 [==============================] - 167s 282ms/step - loss: 1.3982 - accuracy: 0.7255 - val_loss: 6.9736 - val_accuracy: 0.1285\n",
            "Epoch 22/30\n",
            "592/592 [==============================] - 168s 284ms/step - loss: 1.3043 - accuracy: 0.7429 - val_loss: 7.1202 - val_accuracy: 0.1298\n",
            "Epoch 23/30\n",
            "592/592 [==============================] - 170s 287ms/step - loss: 1.2235 - accuracy: 0.7598 - val_loss: 7.2245 - val_accuracy: 0.1298\n",
            "Epoch 24/30\n",
            "592/592 [==============================] - 169s 285ms/step - loss: 1.1529 - accuracy: 0.7733 - val_loss: 7.3498 - val_accuracy: 0.1302\n",
            "Epoch 25/30\n",
            "592/592 [==============================] - 169s 286ms/step - loss: 1.0959 - accuracy: 0.7831 - val_loss: 7.4351 - val_accuracy: 0.1299\n",
            "Epoch 26/30\n",
            "592/592 [==============================] - 169s 285ms/step - loss: 1.0439 - accuracy: 0.7910 - val_loss: 7.5530 - val_accuracy: 0.1283\n",
            "Epoch 27/30\n",
            "592/592 [==============================] - 168s 284ms/step - loss: 0.9991 - accuracy: 0.8000 - val_loss: 7.6668 - val_accuracy: 0.1280\n",
            "Epoch 28/30\n",
            "592/592 [==============================] - 172s 291ms/step - loss: 0.9614 - accuracy: 0.8049 - val_loss: 7.7668 - val_accuracy: 0.1272\n",
            "Epoch 29/30\n",
            "592/592 [==============================] - 172s 290ms/step - loss: 0.9233 - accuracy: 0.8117 - val_loss: 7.8599 - val_accuracy: 0.1273\n",
            "Epoch 30/30\n",
            "592/592 [==============================] - 166s 280ms/step - loss: 0.8906 - accuracy: 0.8171 - val_loss: 7.9722 - val_accuracy: 0.1270\n"
          ]
        }
      ]
    },
    {
      "cell_type": "code",
      "source": [
        "reverse_word_index = {index:word for word,index in tokenizer.word_index.items()}\n",
        "def wordfromonehot(onehot):\n",
        "    index = np.argmax(onehot)\n",
        "    return reverse_word_index[index]\n",
        "def predicts(count , input_line ):\n",
        "    input_line_clean = input_line.strip().lower()\n",
        "    #print(input_lines)\n",
        "    predicted_words = []\n",
        "    input_x= tokenizer.texts_to_sequences([input_line_clean])[0]\n",
        "    for _ in range(0,count):\n",
        "        model_input_x = sequence.pad_sequences([input_x],maxlen=maxlen)\n",
        "        output_y = modelss.predict(model_input_x)\n",
        "        #print (np.max(output_y))\n",
        "        input_x.append(np.argmax(output_y))\n",
        "        predicted_words.append((wordfromonehot(output_y), np.max(output_y)))\n",
        "    #print(predicted_words)\n",
        "    print (\"input = {0}, predicted = {1}\".format(input_line,predicted_words))"
      ],
      "metadata": {
        "id": "dVrBN4mVy0mx"
      },
      "execution_count": 31,
      "outputs": []
    },
    {
      "cell_type": "code",
      "source": [
        "x_test_words = []\n",
        "for seq in x_test:\n",
        "    x_test_words.append(' '.join([reverse_word_index[num] for num in seq if num != 0 ]))\n",
        "pred_test = modelss.predict(x_test)\n",
        "\n",
        "y_test_pred_words = [wordfromonehot(pred) for pred in pred_test]\n",
        "y_act = [wordfromonehot(y) for y in y_test]"
      ],
      "metadata": {
        "id": "MxDsiICs7GXr"
      },
      "execution_count": 32,
      "outputs": []
    },
    {
      "cell_type": "code",
      "source": [
        "wordss = []\n",
        "for i in range (0,len(x_test_words)):\n",
        "  wordss.append(x_test_words[i].split())\n"
      ],
      "metadata": {
        "id": "AwJgYNy0R1e2"
      },
      "execution_count": 39,
      "outputs": []
    },
    {
      "cell_type": "code",
      "source": [
        "wordss[100]"
      ],
      "metadata": {
        "colab": {
          "base_uri": "https://localhost:8080/"
        },
        "id": "QrNc8iA6SlMH",
        "outputId": "90c7e923-c371-4923-852a-165c6a1032ca"
      },
      "execution_count": 47,
      "outputs": [
        {
          "output_type": "execute_result",
          "data": {
            "text/plain": [
              "['سلب', 'تابعیت', 'از', 'نظام', 'جمهوری', 'اسلامی', 'ترین', 'مبارزه']"
            ]
          },
          "metadata": {},
          "execution_count": 47
        }
      ]
    },
    {
      "cell_type": "code",
      "source": [
        "predicts(5 , wordss[100][0])"
      ],
      "metadata": {
        "colab": {
          "base_uri": "https://localhost:8080/"
        },
        "id": "RbNnV2G-S2_0",
        "outputId": "ea7039fd-526c-45e7-a6d1-6d34f5ae0459"
      },
      "execution_count": 48,
      "outputs": [
        {
          "output_type": "stream",
          "name": "stdout",
          "text": [
            "input = سلب, predicted = [('تابعیت', 0.99922967), ('از', 0.45605597), ('نظام', 0.99403185), ('جمهوری', 0.9916877), ('اسلامی', 0.99993205)]\n"
          ]
        }
      ]
    },
    {
      "cell_type": "code",
      "source": [
        "wordss[2020]"
      ],
      "metadata": {
        "colab": {
          "base_uri": "https://localhost:8080/"
        },
        "id": "u_i93UTrUAgc",
        "outputId": "97078976-9edc-4604-f52d-380c5de72f25"
      },
      "execution_count": 62,
      "outputs": [
        {
          "output_type": "execute_result",
          "data": {
            "text/plain": [
              "['که', 'در', 'ایران', 'انقلاب', 'روی', 'چون', 'نظام']"
            ]
          },
          "metadata": {},
          "execution_count": 62
        }
      ]
    },
    {
      "cell_type": "code",
      "source": [
        "predicts(5 , wordss[2020][2])"
      ],
      "metadata": {
        "colab": {
          "base_uri": "https://localhost:8080/"
        },
        "id": "GtlP8hqITFsQ",
        "outputId": "41596cef-cb9a-46d5-a4ab-c7b1fe23efd2"
      },
      "execution_count": 61,
      "outputs": [
        {
          "output_type": "stream",
          "name": "stdout",
          "text": [
            "input = ایران, predicted = [('عزیز', 0.15821487), ('و', 0.6829196), ('بزرگ', 0.96351695), ('ما', 0.984101), ('یه', 0.92117375)]\n"
          ]
        }
      ]
    },
    {
      "cell_type": "code",
      "source": [
        "def Gmodel():\n",
        "  modelg = Sequential()\n",
        "  modelg.add(layers.Embedding(1000, 128))\n",
        "  modelg.add(Dropout(0.2))\n",
        "  modelg.add(layers.GRU(500))\n",
        "  modelg.add(layers.Dense(y_train.shape[1], activation = 'softmax'))\n",
        "  modelg.compile(optimizer='adam',loss=losses.categorical_crossentropy, metrics=['accuracy'])\n",
        "\n",
        "  \n",
        "  return modelg"
      ],
      "metadata": {
        "id": "Dq7xqx46AQE0"
      },
      "execution_count": 63,
      "outputs": []
    },
    {
      "cell_type": "code",
      "source": [
        "modelgg = Gmodel()\n",
        "modelgg.summary()"
      ],
      "metadata": {
        "colab": {
          "base_uri": "https://localhost:8080/"
        },
        "id": "moGabSojqlor",
        "outputId": "b43cf051-22d4-4f66-d4e9-8192320c3be9"
      },
      "execution_count": 64,
      "outputs": [
        {
          "output_type": "stream",
          "name": "stdout",
          "text": [
            "Model: \"sequential_1\"\n",
            "_________________________________________________________________\n",
            " Layer (type)                Output Shape              Param #   \n",
            "=================================================================\n",
            " embedding_1 (Embedding)     (None, None, 128)         128000    \n",
            "                                                                 \n",
            " dropout_1 (Dropout)         (None, None, 128)         0         \n",
            "                                                                 \n",
            " gru (GRU)                   (None, 500)               945000    \n",
            "                                                                 \n",
            " dense_1 (Dense)             (None, 1000)              501000    \n",
            "                                                                 \n",
            "=================================================================\n",
            "Total params: 1,574,000\n",
            "Trainable params: 1,574,000\n",
            "Non-trainable params: 0\n",
            "_________________________________________________________________\n"
          ]
        }
      ]
    },
    {
      "cell_type": "code",
      "source": [
        "history = modelgg.fit(x_train_partial,\n",
        "                    y_train_partial,\n",
        "                    epochs=15,\n",
        "                    validation_data = (x_test,y_test),\n",
        "                    batch_size=128)"
      ],
      "metadata": {
        "id": "8_e96ebwZMUX",
        "colab": {
          "base_uri": "https://localhost:8080/"
        },
        "outputId": "a7949dad-2a70-4065-d0c5-865d9bce4176"
      },
      "execution_count": 65,
      "outputs": [
        {
          "output_type": "stream",
          "name": "stdout",
          "text": [
            "Epoch 1/15\n",
            "592/592 [==============================] - 136s 225ms/step - loss: 5.8907 - accuracy: 0.0607 - val_loss: 5.6722 - val_accuracy: 0.0821\n",
            "Epoch 2/15\n",
            "592/592 [==============================] - 134s 227ms/step - loss: 5.5297 - accuracy: 0.0922 - val_loss: 5.4632 - val_accuracy: 0.0984\n",
            "Epoch 3/15\n",
            "592/592 [==============================] - 134s 227ms/step - loss: 5.2922 - accuracy: 0.1090 - val_loss: 5.3867 - val_accuracy: 0.1068\n",
            "Epoch 4/15\n",
            "592/592 [==============================] - 133s 224ms/step - loss: 5.0841 - accuracy: 0.1215 - val_loss: 5.3520 - val_accuracy: 0.1148\n",
            "Epoch 5/15\n",
            "592/592 [==============================] - 135s 228ms/step - loss: 4.8464 - accuracy: 0.1382 - val_loss: 5.3579 - val_accuracy: 0.1153\n",
            "Epoch 6/15\n",
            "592/592 [==============================] - 135s 227ms/step - loss: 4.5541 - accuracy: 0.1628 - val_loss: 5.4061 - val_accuracy: 0.1219\n",
            "Epoch 7/15\n",
            "592/592 [==============================] - 130s 219ms/step - loss: 4.2049 - accuracy: 0.1964 - val_loss: 5.4913 - val_accuracy: 0.1262\n",
            "Epoch 8/15\n",
            "592/592 [==============================] - 131s 221ms/step - loss: 3.8268 - accuracy: 0.2410 - val_loss: 5.5979 - val_accuracy: 0.1283\n",
            "Epoch 9/15\n",
            "592/592 [==============================] - 135s 228ms/step - loss: 3.4558 - accuracy: 0.2934 - val_loss: 5.7363 - val_accuracy: 0.1317\n",
            "Epoch 10/15\n",
            "592/592 [==============================] - 131s 221ms/step - loss: 3.1070 - accuracy: 0.3513 - val_loss: 5.8800 - val_accuracy: 0.1323\n",
            "Epoch 11/15\n",
            "592/592 [==============================] - 131s 221ms/step - loss: 2.8028 - accuracy: 0.4042 - val_loss: 6.0200 - val_accuracy: 0.1310\n",
            "Epoch 12/15\n",
            "592/592 [==============================] - 130s 220ms/step - loss: 2.5368 - accuracy: 0.4548 - val_loss: 6.1627 - val_accuracy: 0.1322\n",
            "Epoch 13/15\n",
            "592/592 [==============================] - 135s 228ms/step - loss: 2.3120 - accuracy: 0.4996 - val_loss: 6.3213 - val_accuracy: 0.1317\n",
            "Epoch 14/15\n",
            "592/592 [==============================] - 135s 227ms/step - loss: 2.1109 - accuracy: 0.5399 - val_loss: 6.4632 - val_accuracy: 0.1317\n",
            "Epoch 15/15\n",
            "592/592 [==============================] - 132s 222ms/step - loss: 1.9450 - accuracy: 0.5712 - val_loss: 6.5942 - val_accuracy: 0.1308\n"
          ]
        }
      ]
    },
    {
      "cell_type": "code",
      "source": [
        "reverse_word_index = {index:word for word,index in tokenizer.word_index.items()}\n",
        "def wordfromonehot(onehot):\n",
        "    index = np.argmax(onehot)\n",
        "    return reverse_word_index[index]\n",
        "def predictg(count , input_line):\n",
        "    input_line_clean = input_line.strip().lower()\n",
        "    #print(input_lines)\n",
        "    predicted_words = []\n",
        "    input_x= tokenizer.texts_to_sequences([input_line_clean])[0]\n",
        "    for _ in range(0,count):\n",
        "        model_input_x = sequence.pad_sequences([input_x],maxlen=maxlen)\n",
        "        output_y = modelgg.predict(model_input_x)\n",
        "        #print (np.max(output_y))\n",
        "        input_x.append(np.argmax(output_y))\n",
        "        predicted_words.append((wordfromonehot(output_y), np.max(output_y)))\n",
        "    #print(predicted_words)\n",
        "    print (\"input = {0}, predicted = {1}\".format(input_line,predicted_words))"
      ],
      "metadata": {
        "id": "NcEsAUmuZM-B"
      },
      "execution_count": 67,
      "outputs": []
    },
    {
      "cell_type": "code",
      "source": [
        "x_test_words = []\n",
        "for seq in x_test:\n",
        "    x_test_words.append(' '.join([reverse_word_index[num] for num in seq if num != 0 ]))\n",
        "pred_test = modelgg.predict(x_test)\n",
        "\n",
        "y_test_pred_words = [wordfromonehot(pred) for pred in pred_test]\n",
        "y_act = [wordfromonehot(y) for y in y_test]"
      ],
      "metadata": {
        "id": "Sxi1nbVYMTpz"
      },
      "execution_count": 68,
      "outputs": []
    },
    {
      "cell_type": "code",
      "source": [
        "wordss[100]"
      ],
      "metadata": {
        "colab": {
          "base_uri": "https://localhost:8080/"
        },
        "id": "D19Oc4aalaca",
        "outputId": "d90450c4-85be-45ae-c892-e748fc89a630"
      },
      "execution_count": 69,
      "outputs": [
        {
          "output_type": "execute_result",
          "data": {
            "text/plain": [
              "['سلب', 'تابعیت', 'از', 'نظام', 'جمهوری', 'اسلامی', 'ترین', 'مبارزه']"
            ]
          },
          "metadata": {},
          "execution_count": 69
        }
      ]
    },
    {
      "cell_type": "code",
      "source": [
        "predictg(5 , wordss[100][0])"
      ],
      "metadata": {
        "colab": {
          "base_uri": "https://localhost:8080/"
        },
        "id": "f1G3uSdplcTf",
        "outputId": "82048502-6f31-48fd-f0b3-2e5201de4e24"
      },
      "execution_count": 70,
      "outputs": [
        {
          "output_type": "stream",
          "name": "stdout",
          "text": [
            "input = سلب, predicted = [('تابعیت', 0.99048084), ('است', 0.34082583), ('و', 0.53297913), ('تاریخ', 0.73799336), ('بوده', 0.37329602)]\n"
          ]
        }
      ]
    },
    {
      "cell_type": "code",
      "source": [
        "wordss[2020]"
      ],
      "metadata": {
        "colab": {
          "base_uri": "https://localhost:8080/"
        },
        "id": "xIKmzfQflnkL",
        "outputId": "020a9634-26b1-455a-9058-809e151b9507"
      },
      "execution_count": 71,
      "outputs": [
        {
          "output_type": "execute_result",
          "data": {
            "text/plain": [
              "['که', 'در', 'ایران', 'انقلاب', 'روی', 'چون', 'نظام']"
            ]
          },
          "metadata": {},
          "execution_count": 71
        }
      ]
    },
    {
      "cell_type": "code",
      "source": [
        "predictg(5 , wordss[2020][2])"
      ],
      "metadata": {
        "colab": {
          "base_uri": "https://localhost:8080/"
        },
        "id": "rl7M4rwulnyE",
        "outputId": "bd3d10d1-de2d-400e-8762-d348d256654f"
      },
      "execution_count": 72,
      "outputs": [
        {
          "output_type": "stream",
          "name": "stdout",
          "text": [
            "input = ایران, predicted = [('و', 0.070971474), ('ژاپن', 0.7536657), ('۳', 0.9239015), ('گل', 0.76557255), ('نیست', 0.8076462)]\n"
          ]
        }
      ]
    },
    {
      "cell_type": "code",
      "source": [
        "def RNNmodel():\n",
        "  modelr = Sequential()\n",
        "  modelr.add(layers.Embedding(1000, 128))\n",
        "  modelr.add(Dropout(0.2))\n",
        "  modelr.add(layers.SimpleRNN(500))\n",
        "  modelr.add(layers.Dense(y_train.shape[1], activation = 'softmax'))\n",
        "  modelr.compile(optimizer='adam',loss=losses.categorical_crossentropy, metrics=['accuracy'])\n",
        "  return modelr"
      ],
      "metadata": {
        "id": "iIdYSm5IMCKV"
      },
      "execution_count": 73,
      "outputs": []
    },
    {
      "cell_type": "code",
      "source": [
        "modelrr = RNNmodel()\n",
        "modelrr.summary()"
      ],
      "metadata": {
        "colab": {
          "base_uri": "https://localhost:8080/"
        },
        "id": "FP8_GV5fNqbb",
        "outputId": "f637793d-f5fa-431c-c523-dfaebc4e6f25"
      },
      "execution_count": 74,
      "outputs": [
        {
          "output_type": "stream",
          "name": "stdout",
          "text": [
            "Model: \"sequential_2\"\n",
            "_________________________________________________________________\n",
            " Layer (type)                Output Shape              Param #   \n",
            "=================================================================\n",
            " embedding_2 (Embedding)     (None, None, 128)         128000    \n",
            "                                                                 \n",
            " dropout_2 (Dropout)         (None, None, 128)         0         \n",
            "                                                                 \n",
            " simple_rnn (SimpleRNN)      (None, 500)               314500    \n",
            "                                                                 \n",
            " dense_2 (Dense)             (None, 1000)              501000    \n",
            "                                                                 \n",
            "=================================================================\n",
            "Total params: 943,500\n",
            "Trainable params: 943,500\n",
            "Non-trainable params: 0\n",
            "_________________________________________________________________\n"
          ]
        }
      ]
    },
    {
      "cell_type": "code",
      "source": [
        "historyr = modelrr.fit(x_train_partial,\n",
        "                    y_train_partial,\n",
        "                    epochs=15,\n",
        "                    validation_data = (x_test,y_test),\n",
        "                    batch_size=128)"
      ],
      "metadata": {
        "colab": {
          "base_uri": "https://localhost:8080/"
        },
        "id": "EqIVjPaVMxio",
        "outputId": "552d70cd-a281-47d5-942c-4a333ded6b4e"
      },
      "execution_count": 75,
      "outputs": [
        {
          "output_type": "stream",
          "name": "stdout",
          "text": [
            "Epoch 1/15\n",
            "592/592 [==============================] - 54s 89ms/step - loss: 6.0193 - accuracy: 0.0541 - val_loss: 5.8800 - val_accuracy: 0.0753\n",
            "Epoch 2/15\n",
            "592/592 [==============================] - 52s 88ms/step - loss: 5.7321 - accuracy: 0.0825 - val_loss: 5.6522 - val_accuracy: 0.0889\n",
            "Epoch 3/15\n",
            "592/592 [==============================] - 53s 89ms/step - loss: 5.4671 - accuracy: 0.0980 - val_loss: 5.5519 - val_accuracy: 0.0934\n",
            "Epoch 4/15\n",
            "592/592 [==============================] - 52s 87ms/step - loss: 5.2501 - accuracy: 0.1109 - val_loss: 5.5437 - val_accuracy: 0.0992\n",
            "Epoch 5/15\n",
            "592/592 [==============================] - 53s 90ms/step - loss: 5.0555 - accuracy: 0.1229 - val_loss: 5.5573 - val_accuracy: 0.1040\n",
            "Epoch 6/15\n",
            "592/592 [==============================] - 54s 91ms/step - loss: 4.8696 - accuracy: 0.1341 - val_loss: 5.6262 - val_accuracy: 0.1086\n",
            "Epoch 7/15\n",
            "592/592 [==============================] - 53s 89ms/step - loss: 4.6910 - accuracy: 0.1454 - val_loss: 5.6671 - val_accuracy: 0.1086\n",
            "Epoch 8/15\n",
            "592/592 [==============================] - 51s 87ms/step - loss: 4.5196 - accuracy: 0.1612 - val_loss: 5.7635 - val_accuracy: 0.1116\n",
            "Epoch 9/15\n",
            "592/592 [==============================] - 52s 88ms/step - loss: 4.3592 - accuracy: 0.1737 - val_loss: 5.8097 - val_accuracy: 0.1127\n",
            "Epoch 10/15\n",
            "592/592 [==============================] - 51s 86ms/step - loss: 4.2095 - accuracy: 0.1882 - val_loss: 5.8906 - val_accuracy: 0.1141\n",
            "Epoch 11/15\n",
            "592/592 [==============================] - 51s 87ms/step - loss: 4.0702 - accuracy: 0.2028 - val_loss: 5.9648 - val_accuracy: 0.1100\n",
            "Epoch 12/15\n",
            "592/592 [==============================] - 51s 87ms/step - loss: 3.9348 - accuracy: 0.2168 - val_loss: 6.0457 - val_accuracy: 0.1132\n",
            "Epoch 13/15\n",
            "592/592 [==============================] - 54s 92ms/step - loss: 3.8183 - accuracy: 0.2299 - val_loss: 6.1064 - val_accuracy: 0.1134\n",
            "Epoch 14/15\n",
            "592/592 [==============================] - 52s 87ms/step - loss: 3.7068 - accuracy: 0.2435 - val_loss: 6.1817 - val_accuracy: 0.1090\n",
            "Epoch 15/15\n",
            "592/592 [==============================] - 52s 88ms/step - loss: 3.6073 - accuracy: 0.2559 - val_loss: 6.2666 - val_accuracy: 0.1131\n"
          ]
        }
      ]
    },
    {
      "cell_type": "code",
      "source": [
        "reverse_word_index = {index:word for word,index in tokenizer.word_index.items()}\n",
        "def wordfromonehot(onehot):\n",
        "    index = np.argmax(onehot)\n",
        "    return reverse_word_index[index]\n",
        "def predictr(count , input_line ):\n",
        "    input_line_clean = input_line.strip().lower()\n",
        "    #print(input_lines)\n",
        "    predicted_words = []\n",
        "    input_x= tokenizer.texts_to_sequences([input_line_clean])[0]\n",
        "    for _ in range(0,count):\n",
        "        model_input_x = sequence.pad_sequences([input_x],maxlen=maxlen)\n",
        "        output_y = modelrr.predict(model_input_x)\n",
        "        #print (np.max(output_y))\n",
        "        input_x.append(np.argmax(output_y))\n",
        "        predicted_words.append((wordfromonehot(output_y), np.max(output_y)))\n",
        "    #print(predicted_words)\n",
        "    print (\"input = {0}, predicted = {1}\".format(input_line,predicted_words))"
      ],
      "metadata": {
        "id": "Z7ccZFeHNIrc"
      },
      "execution_count": 76,
      "outputs": []
    },
    {
      "cell_type": "code",
      "source": [
        "x_test_words = []\n",
        "for seq in x_test:\n",
        "    x_test_words.append(' '.join([reverse_word_index[num] for num in seq if num != 0 ]))\n",
        "pred_test = modelrr.predict(x_test)\n",
        "y_test_pred_words = [wordfromonehot(pred) for pred in pred_test]\n",
        "y_act = [wordfromonehot(y) for y in y_test]"
      ],
      "metadata": {
        "id": "a3AZVmk8UyWr"
      },
      "execution_count": 77,
      "outputs": []
    },
    {
      "cell_type": "code",
      "source": [
        "wordss[100]"
      ],
      "metadata": {
        "colab": {
          "base_uri": "https://localhost:8080/"
        },
        "id": "e9k0bnbVqCJM",
        "outputId": "53647fae-706c-4821-9d0e-2b88f1442e2f"
      },
      "execution_count": 78,
      "outputs": [
        {
          "output_type": "execute_result",
          "data": {
            "text/plain": [
              "['سلب', 'تابعیت', 'از', 'نظام', 'جمهوری', 'اسلامی', 'ترین', 'مبارزه']"
            ]
          },
          "metadata": {},
          "execution_count": 78
        }
      ]
    },
    {
      "cell_type": "code",
      "source": [
        "predictr(5 , wordss[100][0])"
      ],
      "metadata": {
        "colab": {
          "base_uri": "https://localhost:8080/"
        },
        "id": "7UKM-19WqCT-",
        "outputId": "02e96628-c710-49ff-a536-e081539d4032"
      },
      "execution_count": 79,
      "outputs": [
        {
          "output_type": "stream",
          "name": "stdout",
          "text": [
            "input = سلب, predicted = [('تابعیت', 0.9995702), ('خود', 0.28245297), ('را', 0.78951687), ('به', 0.20800145), ('از', 0.09701262)]\n"
          ]
        }
      ]
    },
    {
      "cell_type": "code",
      "source": [
        "wordss[2020]"
      ],
      "metadata": {
        "colab": {
          "base_uri": "https://localhost:8080/"
        },
        "id": "A9DxBCOFqCdz",
        "outputId": "4b840291-bab7-46d6-9690-d30cd47bcc33"
      },
      "execution_count": 80,
      "outputs": [
        {
          "output_type": "execute_result",
          "data": {
            "text/plain": [
              "['که', 'در', 'ایران', 'انقلاب', 'روی', 'چون', 'نظام']"
            ]
          },
          "metadata": {},
          "execution_count": 80
        }
      ]
    },
    {
      "cell_type": "code",
      "source": [
        "predictr(5 , wordss[2020][2])"
      ],
      "metadata": {
        "colab": {
          "base_uri": "https://localhost:8080/"
        },
        "id": "-vnndhdZqV6h",
        "outputId": "510287e6-77e7-4d74-cac0-d41c78d6a040"
      },
      "execution_count": 81,
      "outputs": [
        {
          "output_type": "stream",
          "name": "stdout",
          "text": [
            "input = ایران, predicted = [('را', 0.106700584), ('به', 0.35755795), ('و', 0.09498415), ('فشار', 0.05720973), ('سیاسی', 0.26414493)]\n"
          ]
        }
      ]
    }
  ]
}